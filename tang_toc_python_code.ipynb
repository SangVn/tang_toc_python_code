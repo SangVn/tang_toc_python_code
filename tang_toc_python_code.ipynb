{
 "cells": [
  {
   "cell_type": "markdown",
   "metadata": {},
   "source": [
    "Tài liệu này mang giấy phép Creative Commons Attribution (CC BY).\n",
    "(c) Nguyễn Ngọc Sáng, Zhukovsky 12/2018.\n",
    "\n",
    "[@SangVn](https://github.com/SangVn) [@VnCFD](https://vncfdgroup.wordpress.com/)\n",
    "\n",
    "*Thực hành CFD với Python!*"
   ]
  },
  {
   "cell_type": "markdown",
   "metadata": {},
   "source": [
    "# Tăng tốc Python code với Cython và Numba, vncfd_1D update\n",
    "\n",
    " *Để thực hành bài này, các bạn hãy cài ipython hoặc jupyter notebook, cython và numba*\n",
    " \n",
    "Nếu bạn đã thực hành phần 2 CFD với Python hay đang dùng vncfd_1D thì sẽ thấy chương trình chạy rất chậm. Cũng vì vậy mà ở cuối bài 17 đã đề xuất sử dụng sơ đồ ẩn hay tính toán song song để giải hệ phương trình Euler 1D. Ngoài ra chúng ta có thể tăng tốc python code với nhiều cách khác nhau trong đó có sử dụng `cython` và `numba`.\n",
    "\n",
    "Tại sao python lại chậm như vậy? Có một số lý do như:\n",
    "- Mỗi đối tượng dù đơn giản nhất đều được lưu trữ trong một cấu trúc dữ liệu phức tạp\n",
    "- Nhiều thao tác gián tiếp truy cập bộ nhớ\n",
    "- Kiểm tra kiểu biến\n",
    "\n",
    "So với ngôn ngữ C, viết code trên Python nhanh, gọn và thuận tiên hơn, tuy nhiên chương trình chạy chậm hơn. Cython là sự kết hợp giữa C và Python: Python code chạy với tốc độ C. Thực chất Cython là Python với kiểu biến C, có thể nói như vậy.\n",
    "\n",
    "Còn Numba là gì? Đây là trình biên dịch được tối ưu hóa JIT(just-in-time) trên cơ sở LLVM (Low Level Virtual Machine). Với Numba, Python code có thể đạt tốc độ của C hay FORTAN.\n",
    "\n",
    "Bây giờ ta sẽ so sánh tốc độ Python, Cython, Numba qua hàm tìm áp suất pressure_classic_godunov."
   ]
  },
  {
   "cell_type": "code",
   "execution_count": 31,
   "metadata": {},
   "outputs": [],
   "source": [
    "#(khối lượng riêng, vận tốc, áp suất)\n",
    "Pl = [1.0, 0.75, 1.0]\n",
    "Pr = [0.125, 0.0, 0.1]"
   ]
  },
  {
   "cell_type": "markdown",
   "metadata": {},
   "source": [
    "# Python code:"
   ]
  },
  {
   "cell_type": "code",
   "execution_count": 49,
   "metadata": {},
   "outputs": [],
   "source": [
    "g      = 1.4\n",
    "gp1    = g+1\n",
    "gm1    = g-1\n",
    "gp1d2  = (g+1)/2\n",
    "gm1d2  = (g-1)/2\n",
    "gp1d2g = (g+1)/(2*g)\n",
    "gm1d2g = (g-1)/(2*g)\n",
    "gm1dgp1 = (g-1)/(g+1)\n",
    "eps    = 1e-6     #epsilon - sai số \n",
    "\n",
    "#phương pháp lặp tìm P\n",
    "def pressure_classic_godunov_python(Pl, Pr):\n",
    "    r1, u1, p1 = Pl[0], Pl[1], Pl[2]\n",
    "    r2, u2, p2 = Pr[0], Pr[1], Pr[2]\n",
    "    \n",
    "    #vận tốc âm thanh \n",
    "    c1 = (g*p1/r1)**0.5\n",
    "    c2 = (g*p2/r2)**0.5\n",
    "    \n",
    "    #phương pháp lặp \n",
    "    P0 = (p1*r2*c2 + p2*r1*c1 + (u1-u2)*r1*c1*r2*c2)/(r1*c1+r2*c2)\n",
    "    if P0 < eps: P0 = eps\n",
    "    iterations = 50 # max_iteration \n",
    "    while (True):\n",
    "        P = P0 #áp suất P^{n-1}\n",
    "        if P >= p1: a1 = (r1*(gp1d2*P + gm1d2*p1))**0.5\n",
    "        else:\n",
    "            pp = max(eps, P/p1)\n",
    "            op = 1. - pp**gm1d2g\n",
    "            if op>=eps: a1 = gm1d2g*r1*c1*(1. - pp)/op\n",
    "            else: a1 = r1*c1\n",
    "        if P >= p2: a2 = (r2*(gp1d2*P + gm1d2*p2))**0.5\n",
    "        else:\n",
    "            pp = max(eps, P/p2)\n",
    "            op = 1. - pp**gm1d2g\n",
    "            if op>=eps: a2 = gm1d2g*r2*c2*(1. - pp)/op\n",
    "            else: a2 = r2*c2\n",
    "\n",
    "        z = P/(p1+p2)\n",
    "        alpha = gm1/(3*g)*(1. - z)/(z**gp1d2g)/(1. - z**gm1d2g) - 1.\n",
    "        if alpha < 0.: alpha = 0.\n",
    "        phi = (a2*p1 + a1*p2 + a1*a2*(u1 - u2))/(a1+a2)\n",
    "\n",
    "        P0 = (alpha*P + phi)/(1. + alpha)#tính P^n\n",
    "        iterations -= 1\n",
    "        if (abs(P0 - P) < eps) or (not iterations): break\n",
    "    #kết thúc vòng lặp! \n",
    "  \n",
    "    return #P, c1, c2, a1, a2"
   ]
  },
  {
   "cell_type": "code",
   "execution_count": 50,
   "metadata": {},
   "outputs": [
    {
     "name": "stdout",
     "output_type": "stream",
     "text": [
      "The slowest run took 8.00 times longer than the fastest. This could mean that an intermediate result is being cached.\n",
      "100000 loops, best of 3: 12.2 µs per loop\n"
     ]
    }
   ],
   "source": [
    "%timeit pressure_classic_godunov_python(Pl, Pr)"
   ]
  },
  {
   "cell_type": "markdown",
   "metadata": {},
   "source": [
    "# Thử nghiệm với Numba:\n",
    "\n",
    "Để biên dịch một hàm bằng Numba, chúng ta thêm khai báo @jit."
   ]
  },
  {
   "cell_type": "code",
   "execution_count": 60,
   "metadata": {},
   "outputs": [],
   "source": [
    "import numba\n",
    "from numba import jit\n",
    "\n",
    "@jit (nopython=True)\n",
    "#phương pháp lặp tìm P\n",
    "def pressure_classic_godunov_numba(Pl, Pr):\n",
    "    r1, u1, p1 = Pl[0], Pl[1], Pl[2]\n",
    "    r2, u2, p2 = Pr[0], Pr[1], Pr[2]\n",
    "    \n",
    "    #vận tốc âm thanh \n",
    "    c1 = (g*p1/r1)**0.5\n",
    "    c2 = (g*p2/r2)**0.5\n",
    "    \n",
    "    #phương pháp lặp \n",
    "    P0 = (p1*r2*c2 + p2*r1*c1 + (u1-u2)*r1*c1*r2*c2)/(r1*c1+r2*c2)\n",
    "    if P0 < eps: P0 = eps\n",
    "    iterations = 50 # max_iteration \n",
    "    while (True):\n",
    "        P = P0 #áp suất P^{n-1}\n",
    "        if P >= p1: a1 = (r1*(gp1d2*P + gm1d2*p1))**0.5\n",
    "        else:\n",
    "            pp = max(eps, P/p1)\n",
    "            op = 1. - pp**gm1d2g\n",
    "            if op>=eps: a1 = gm1d2g*r1*c1*(1. - pp)/op\n",
    "            else: a1 = r1*c1\n",
    "        if P >= p2: a2 = (r2*(gp1d2*P + gm1d2*p2))**0.5\n",
    "        else:\n",
    "            pp = max(eps, P/p2)\n",
    "            op = 1. - pp**gm1d2g\n",
    "            if op>=eps: a2 = gm1d2g*r2*c2*(1. - pp)/op\n",
    "            else: a2 = r2*c2\n",
    "\n",
    "        z = P/(p1+p2)\n",
    "        alpha = gm1/(3*g)*(1. - z)/(z**gp1d2g)/(1. - z**gm1d2g) - 1.\n",
    "        if alpha < 0.: alpha = 0.\n",
    "        phi = (a2*p1 + a1*p2 + a1*a2*(u1 - u2))/(a1+a2)\n",
    "\n",
    "        P0 = (alpha*P + phi)/(1. + alpha)#tính P^n\n",
    "        iterations -= 1\n",
    "        if (abs(P0 - P) < eps) or (not iterations): break\n",
    "    #kết thúc vòng lặp! \n",
    "  \n",
    "    return #P, c1, c2, a1, a2"
   ]
  },
  {
   "cell_type": "code",
   "execution_count": 61,
   "metadata": {},
   "outputs": [
    {
     "name": "stdout",
     "output_type": "stream",
     "text": [
      "The slowest run took 26923.56 times longer than the fastest. This could mean that an intermediate result is being cached.\n",
      "1 loop, best of 3: 11.9 µs per loop\n"
     ]
    }
   ],
   "source": [
    "%timeit pressure_classic_godunov_numba(Pl, Pr)"
   ]
  },
  {
   "cell_type": "markdown",
   "metadata": {},
   "source": [
    "# Cython code:\n",
    "\n",
    "Một điểm khác biệt với python đó là chúng ta phải thêm khai báo kiểu biến."
   ]
  },
  {
   "cell_type": "code",
   "execution_count": 40,
   "metadata": {},
   "outputs": [],
   "source": [
    "%load_ext cython"
   ]
  },
  {
   "cell_type": "code",
   "execution_count": 43,
   "metadata": {},
   "outputs": [],
   "source": [
    "%%cython\n",
    "cdef double g      = 1.4\n",
    "cdef double gp1    = g+1\n",
    "cdef double gm1    = g-1\n",
    "cdef double gp1d2  = (g+1)/2\n",
    "cdef double gm1d2  = (g-1)/2\n",
    "cdef double gp1d2g = (g+1)/(2*g)\n",
    "cdef double gm1d2g = (g-1)/(2*g)\n",
    "cdef double gm1dgp1 = (g-1)/(g+1)\n",
    "cdef double eps    = 1e-6     #epsilon - sai số \n",
    "\n",
    "#Giải bài toán phân rã gián đoạn trong trên từng bề mặt thể tích hữu hạn\n",
    "def pressure_classic_godunov_cython(Pl, Pr):\n",
    "    cdef double r1 = Pl[0]\n",
    "    cdef double u1 = Pl[1]\n",
    "    cdef double p1 = Pl[2]\n",
    "    cdef double r2 = Pr[0]\n",
    "    cdef double u2 = Pr[1]\n",
    "    cdef double p2 = Pr[2]\n",
    "    \n",
    "    #vận tốc âm thanh \n",
    "    cdef double c1 = (g*p1/r1)**0.5\n",
    "    cdef double c2 = (g*p2/r2)**0.5\n",
    "\n",
    "    #phương pháp lặp tìm P\n",
    "    cdef double P0 = (p1*r2*c2 + p2*r1*c1 + (u1-u2)*r1*c1*r2*c2)/(r1*c1+r2*c2)\n",
    "    if P0 < eps: P0 = eps\n",
    "    cdef double z, alpha, phi\n",
    "    \n",
    "    cdef int iterations = 50 # max_iteration \n",
    "    while (True):\n",
    "        P = P0 #áp suất P^{n-1}\n",
    "        if P >= p1: a1 = (r1*(gp1d2*P + gm1d2*p1))**0.5\n",
    "        else:\n",
    "            pp = max(eps, P/p1)\n",
    "            op = 1. - pp**gm1d2g\n",
    "            if op>=eps: a1 = gm1d2g*r1*c1*(1. - pp)/op\n",
    "            else: a1 = r1*c1\n",
    "        if P >= p2: a2 = (r2*(gp1d2*P + gm1d2*p2))**0.5\n",
    "        else:\n",
    "            pp = max(eps, P/p2)\n",
    "            op = 1. - pp**gm1d2g\n",
    "            if op>=eps: a2 = gm1d2g*r2*c2*(1. - pp)/op\n",
    "            else: a2 = r2*c2\n",
    "\n",
    "        z = P/(p1+p2)\n",
    "        alpha = gm1/(3*g)*(1. - z)/(z**gp1d2g)/(1. - (z**gm1d2g)) - 1.\n",
    "        if alpha < 0.: alpha = 0.\n",
    "        phi = (a2*p1 + a1*p2 + a1*a2*(u1 - u2))/(a1+a2)\n",
    "\n",
    "        P0 = (alpha*P + phi)/(1. + alpha)#tính P^n\n",
    "        iterations -= 1\n",
    "        if (abs(P0 - P) < eps) or (not iterations): break\n",
    "    #kết thúc vòng lặp!\n",
    "    return #P, c1, c2, a1, a2"
   ]
  },
  {
   "cell_type": "code",
   "execution_count": 44,
   "metadata": {},
   "outputs": [
    {
     "name": "stdout",
     "output_type": "stream",
     "text": [
      "The slowest run took 5.20 times longer than the fastest. This could mean that an intermediate result is being cached.\n",
      "100000 loops, best of 3: 2.29 µs per loop\n"
     ]
    }
   ],
   "source": [
    "%timeit pressure_classic_godunov_cython(Pl, Pr)"
   ]
  },
  {
   "cell_type": "markdown",
   "metadata": {},
   "source": [
    "# Kết quả:\n",
    "\n",
    "Python - 12.2 µs,  Numba - 11.9 µs, Cython - 2.29µs. Numba không hiệu quả như mong muốn. **Cython tăng tốc độ lên hơn 5 lần!**\n",
    "\n",
    "**Bước tiếp theo** ta kiểm tra tốc độ thông qua chương trình giải hệ phương trình Euler 1D bằng phương pháp Godunov. Ta sẽ sử dụng 3 file [Bai_16_python.ipynb](Bai_16_python.ipynb), [Bai_16_numba.ipynb](Bai_16_python.ipynb), [Bai_16_cython.ipynb](Bai_16_python.ipynb).\n",
    "\n",
    "Kiểm tra tốc độ tính toán 4 bài test với lưới bằng 81 điểm, CFL = 0.45:\n",
    "\n",
    "Python: 88.6 ms, 142.0 ms, 103.0 ms, 29.5 ms\n",
    "Numba : 23.7 ms, 21.9  ms, 17.6  ms, 5.76 ms\n",
    "Cython: 14.6 ms, 18.7  ms, 13.9  ms, 4.6  ms\n",
    "\n",
    "Ở đây, numba đã có thấy sự hiệu quả của mình, tuy nhiên vẫn chậm hơn cython. Kết quả sẽ còn khác nữa nếu ta tăng số điểm lưới lên 1001, 5001.\n",
    "\n",
    "Và còn một điều đặc biệt thể hiện trên hình kết quả bài test2 (và ở các bài test khác) đó là numba làm xuất hiện nhiều dao động, nếu lấy CFL = 0.95 thì nghiệm không hội tụ. \n",
    "\n",
    "Điều này tôi không biết giải thích tại sao. Bạn nào biết xin cho lời khuyên về cách khắc phục.\n",
    "\n",
    "# vncdf_1D update ([link](https://github.com/SangVn/vncfd_1D_update))\n",
    "Trên cơ sở đó, vncdf_1D được update với phiên bản sử dụng cython, thay đổi chủ yếu nằm trong file `godunov_flux.pyx`. Để so sánh, ta chạy hai file huong_dan_su_dung.ipynb trong hai phiên bản và kiểm tra tốc độ 7 bài test (bài toán riemann lưới 1001 điểm, bài toán shu-osher giữ nguyên).\n",
    "\n",
    "**Kết quả:**\n",
    "\n",
    "**Bài toán(phương pháp): Riemann(exact solution, godunov, muscl, weno5), Shu-Osher(muscl, weno5, muscl)** \n",
    "              \n",
    "**Python + Numpy: Riemann(3.25 s, 13.5 s, 45.2 s, 8m 43s), Shu-Osher(11.6 s, 2m 12s, 1m 12 s)**\n",
    "\n",
    "**Cython + Numpy: Riemann(1.69 s, 1.06 s, 12.0 s, 8m 9s),  Shu-Osher(6.15 s, 2m 2s,  38.1 s)**\n",
    "\n",
    "Ảnh hưởng lớn nhất của thay đổi này đó là tăng tốc độ tính toán với tái cấu trúc godunov, tiếp đến là muscl, còn đối với weno5 - tốc độ không được cải thiện. Kết quả như vậy là do với weno5 chủ yếu tốn thời gian vào việc tái cấu trúc nghiệm.\n",
    "\n",
    "Ngoài ra trong phiên bản mới vncfd_1D bổ sung thêm hai phương pháp tính dòng là Rusanov và HLL."
   ]
  },
  {
   "cell_type": "code",
   "execution_count": null,
   "metadata": {},
   "outputs": [],
   "source": []
  }
 ],
 "metadata": {
  "kernelspec": {
   "display_name": "Python 2",
   "language": "python",
   "name": "python2"
  },
  "language_info": {
   "codemirror_mode": {
    "name": "ipython",
    "version": 2
   },
   "file_extension": ".py",
   "mimetype": "text/x-python",
   "name": "python",
   "nbconvert_exporter": "python",
   "pygments_lexer": "ipython2",
   "version": "2.7.15rc1"
  }
 },
 "nbformat": 4,
 "nbformat_minor": 2
}
