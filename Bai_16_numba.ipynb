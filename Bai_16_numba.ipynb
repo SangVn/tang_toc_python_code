{
 "cells": [
  {
   "cell_type": "markdown",
   "metadata": {},
   "source": [
    "Tài liệu này mang giấy phép Creative Commons Attribution (CC BY).\n",
    "(c) Nguyễn Ngọc Sáng, Zhukovsky 12/2018.\n",
    "\n",
    "[@SangVn](https://github.com/SangVn) [@VnCFD](https://vncfdgroup.wordpress.com/)\n",
    "\n",
    "*Thực hành CFD với Python!*\n",
    "\n",
    "# Bài 16. Hệ phương trình Euler, bài toán Riemann, phân rã gián đoạn Godunov"
   ]
  },
  {
   "cell_type": "code",
   "execution_count": 28,
   "metadata": {},
   "outputs": [],
   "source": [
    "import numpy as np\n",
    "import numba\n",
    "from numba import jit\n",
    "import ctypes\n",
    "import matplotlib.pyplot as plt\n",
    "\n",
    "g      = 1.4\n",
    "gp1    = g+1\n",
    "gm1    = g-1\n",
    "gp1d2  = (g+1)/2\n",
    "gm1d2  = (g-1)/2\n",
    "gp1d2g = (g+1)/(2*g)\n",
    "gm1d2g = (g-1)/(2*g)\n",
    "gm1dgp1 = (g-1)/(g+1)\n",
    "gdgm1  = g/(g-1)\n",
    "g2dgm1 = g*2/(g-1)\n",
    "eps    = 1e-6     #epsilon - sai số \n",
    "\n",
    "\n",
    "#Giải bài toán phân rã gián đoạn trong trên từng bề mặt thể tích hữu hạn\n",
    "#phân rã gián đoạn Godunov\n",
    "@jit(nopython=True)\n",
    "def decay_godunov(Pl, Pr):\n",
    "    r1, u1, p1 = Pl[0], Pl[1], Pl[2]\n",
    "    r2, u2, p2 = Pr[0], Pr[1], Pr[2]\n",
    "\n",
    "    #vận tốc âm thanh \n",
    "    c1 = (g*p1/r1)**0.5\n",
    "    c2 = (g*p2/r2)**0.5\n",
    "\n",
    "    #phương pháp lặp \n",
    "    P0 = (p1*r2*c2 + p2*r1*c1 + (u1-u2)*r1*c1*r2*c2)/(r1*c1+r2*c2)\n",
    "    if P0 < eps: P0 = eps\n",
    "    iterations = 50 # max_iteration \n",
    "    while (True):\n",
    "        P = P0 #áp suất P^{n-1}\n",
    "        if P >= p1: a1 = (r1*(gp1d2*P + gm1d2*p1))**0.5\n",
    "        else:\n",
    "            pp = max(eps, P/p1)\n",
    "            op = 1. - pp**gm1d2g\n",
    "            if op>=eps: a1 = gm1d2g*r1*c1*(1. - pp)/op\n",
    "            else: a1 = r1*c1\n",
    "        if P >= p2: a2 = (r2*(gp1d2*P + gm1d2*p2))**0.5\n",
    "        else:\n",
    "            pp = max(eps, P/p2)\n",
    "            op = 1. - pp**gm1d2g\n",
    "            if op>=eps: a2 = gm1d2g*r2*c2*(1. - pp)/op\n",
    "            else: a2 = r2*c2\n",
    "\n",
    "        z = P/(p1+p2)\n",
    "        alpha = gm1/(3*g)*(1. - z)/(z**gp1d2g)/(1. - (z**gm1d2g)) - 1.\n",
    "        if alpha < 0.: alpha = 0.\n",
    "        phi = (a2*p1 + a1*p2 + a1*a2*(u1 - u2))/(a1+a2)\n",
    "\n",
    "        P0 = (alpha*P + phi)/(1. + alpha)#tính P^n\n",
    "        iterations -= 1\n",
    "        if (abs(P0 - P) < eps) or (not iterations): break\n",
    "    #kết thúc vòng lặp! \n",
    "    \n",
    "    U = (a1*u1 + a2*u2 + p1 - p2)/(a1 + a2)\n",
    "    #xét gián đoạn bên trái \n",
    "    if P > p1: #nếu là sóng xung kích \n",
    "        D1 = u1 - a1/r1\n",
    "        R1 = r1*a1/(a1-r1*(u1-U))\n",
    "    else: #nếu là sóng giãn\n",
    "        D1 = u1 - c1\n",
    "        c1star = c1 + gm1d2*(u1-U)\n",
    "        D1star = U - c1star\n",
    "        R1 = g*P/c1star**2\n",
    "    #tương tự cho gián đoạn bên phải \n",
    "    if P > p2: #nếu là sóng xung kích \n",
    "        D2 = u2 + a2/r2\n",
    "        R2 = r2*a2/(a2 + r2*(u2-U))\n",
    "    else: #nếu là sóng giãn\n",
    "        D2 = u2 + c2\n",
    "        c2star = c2 - gm1d2*(u2-U)\n",
    "        D2star = U + c2star\n",
    "        R2 = g*P/c2star**2\n",
    "        \n",
    "    #xét cấu hình phân rã xác định nghiệm PStar = (Rstar, Ustar, Pstar)\n",
    "    #tùy theo vị trí biên i+1/2 nằm trong vùng nào (xem bài 12)\n",
    "    if D1>0 and D2>0:   #nằm bên trái sóng trái\n",
    "        Rstar = r1\n",
    "        Ustar = u1\n",
    "        Pstar = p1\n",
    "    elif D1<0 and D2<0: #nằm bên phải sóng phải\n",
    "        Rstar = r2\n",
    "        Ustar = u2\n",
    "        Pstar = p2\n",
    "    elif D1<0 and D2>0: #nằm giữa hai sóng \n",
    "        if U>=0: Rstar = R1 #nằm bên trái gián đoạn tiếp xúc\n",
    "        else:    Rstar = R2 #nằm bên phải gián đoạn tiếp xúc\n",
    "        Ustar = U\n",
    "        Pstar = P\n",
    "    elif D1<0 and D1star>0: #nằm trong sóng giãn trái\n",
    "        Ustar = gm1dgp1*u1 + c1/gp1d2\n",
    "        Pstar = p1*np.power(Ustar/c1, g2dgm1)\n",
    "        Rstar = g*p1/Ustar**2   \n",
    "    elif D2>0 and D2star<0: #nằm trong sóng giãn phải \n",
    "        Ustar = gm1dgp1*u2 - c2/gp1d2\n",
    "        Pstar = p2*np.power(Ustar/c2, g2dgm1)\n",
    "        Rstar = g*p2/Ustar**2\n",
    "    else:\n",
    "        print(\"Error: decay_godunov\")\n",
    "        \n",
    "    #vector biến gốc: PStar = [Rstar, Ustar, Pstar]\n",
    "    FStar = [0, 0, 0] #vector hàm dòng\n",
    "    FStar[0] = Rstar*Ustar\n",
    "    FStar[1] = Rstar*Ustar**2 + Pstar\n",
    "    FStar[2] = Rstar*Ustar**3/2. + Pstar*Ustar*gdgm1\n",
    "    \n",
    "    return FStar\n",
    "\n",
    "\n",
    "#hàm chuyển đổi từ P sang U \n",
    "def P2U(P, U):\n",
    "    r, u, p = P[:, 0], P[:, 1], P[:, 2]\n",
    "    U[:, 0] = r\n",
    "    U[:, 1] = r*u\n",
    "    U[:, 2] = r*u**2/2. + p/gm1\n",
    "    return\n",
    "\n",
    "#hàm chuyển đổi từ U về P\n",
    "def U2P(U, P):\n",
    "    r, ru, re = U[:, 0], U[:, 1], U[:, 2]\n",
    "    P[:, 0] = r\n",
    "    P[:, 1] = u = ru/r\n",
    "    P[:, 2] = (re - ru*u/2.)*gm1\n",
    "    return\n",
    "\n",
    "#tính bước thời gian \n",
    "def time_step(P, CFL, dx):\n",
    "    r, u, p = P[:, 0], P[:, 1], P[:, 2]\n",
    "    c = np.sqrt(g*p/r) #vận tốc âm thanh \n",
    "    u_max = max(abs(u) + c)        \n",
    "    dt = CFL*dx/u_max\n",
    "    return dt\n",
    "\n",
    "#tái cấu trúc nghiệm hằng số từng mảnh - Godunov\n",
    "def godunov_reconstr(Ps):\n",
    "    P_left = Ps[:-1].copy()\n",
    "    P_right = Ps[1:].copy()\n",
    "    return P_left, P_right\n",
    "\n",
    "#sơ đồ godunov bậc 1\n",
    "def godunov_method(Ps, nx, dx, CFL, time_target):\n",
    "    Us = Ps.copy()\n",
    "    P2U(Ps, Us)\n",
    "    Fstar = Ps[:-1].copy()\n",
    "    time = 0.0\n",
    "    while(time < time_target):\n",
    "        \n",
    "        #bước 1: tái cấu trúc - reconstruction \n",
    "        P_left, P_right = godunov_reconstr(Ps)\n",
    "        #bước 2: tìm nghiệm phân rã gián đoạn, tính hàm dòng\n",
    "        for i in range(nx-1):\n",
    "            Fstar[i] = decay_godunov(P_left[i], P_right[i])\n",
    "\n",
    "        #bước 3: tích phân theo thời gian\n",
    "        dt = time_step(Ps, CFL, dx) \n",
    "        if(time+dt > time_target): dt = time + dt-time_target\n",
    "        time += dt\n",
    "\n",
    "        Us[1:-1] = Us[1:-1] - dt/dx*(Fstar[1:] - Fstar[:-1]) #tìm biến bảo toàn \n",
    "        U2P(Us, Ps) #tìm biến nguyên thủy\n",
    "        \n",
    "        #điều kiện biên: outflow\n",
    "        Ps[0] = Ps[1]\n",
    "        Ps[-1] = Ps[-2]        \n",
    "    return\n",
    "\n",
    "#tìm nghiệm và vẽ đồ thị \n",
    "def riemann_solver(Pl, Pr, x, xstar, t_max, CFL):\n",
    "    nx = len(x)\n",
    "    dx = x[1] - x[0] #xét trường hợp lưới đều \n",
    "    #tạo mảng Ps - matrix (nx, 3)\n",
    "    Ps = np.zeros((nx, 3))\n",
    "    Ps[:int(xstar/dx)] = Pl\n",
    "    Ps[int(xstar/dx):] = Pr\n",
    "    \n",
    "    godunov_method(Ps, nx, dx, CFL, t_max)\n",
    "    \n",
    "    return Ps\n",
    "\n",
    "def plot(Ps):\n",
    "    e_godunov   = Ps[:, 2]/(gm1*Ps[:, 0])\n",
    "    \n",
    "    f, axarr = plt.subplots(2, 2, figsize=(14,10))\n",
    "    axarr[0, 0].plot(x, Ps[:, 0])\n",
    "    axarr[0, 0].set_title('density')\n",
    "    axarr[0, 1].plot(x, Ps[:, 1])\n",
    "    axarr[0, 1].set_title('velocity')\n",
    "    axarr[1, 0].plot(x, Ps[:, 2])\n",
    "    axarr[1, 0].set_title('pressure')\n",
    "    axarr[1, 1].plot(x, e_godunov)\n",
    "    axarr[1, 1].set_title('energy')\n",
    "    f.subplots_adjust(hspace=0.2)\n",
    "    plt.legend(['godunov_scheme', 'exact_solution'])\n",
    "    plt.show()"
   ]
  },
  {
   "cell_type": "markdown",
   "metadata": {},
   "source": [
    "Kiểm tra kết quả bằng 4 bài test:"
   ]
  },
  {
   "cell_type": "code",
   "execution_count": 29,
   "metadata": {},
   "outputs": [],
   "source": [
    "#chia lưới đều \n",
    "nx = 81\n",
    "x = np.linspace(0, 1, nx)\n",
    "\n",
    "#CFL condition\n",
    "CFL = 0.45"
   ]
  },
  {
   "cell_type": "markdown",
   "metadata": {},
   "source": [
    "Hãy thay hàm tìm P, tăng nx=1001 và so sánh thời gian tính toán."
   ]
  },
  {
   "cell_type": "code",
   "execution_count": 33,
   "metadata": {},
   "outputs": [
    {
     "name": "stdout",
     "output_type": "stream",
     "text": [
      "10 loops, best of 3: 23.6 ms per loop\n"
     ]
    }
   ],
   "source": [
    "#test 1\n",
    "Pl = [1.0, 0.75, 1.0]\n",
    "Pr = [0.125, 0.0, 0.1]\n",
    "xstar = 0.3\n",
    "t_max = 0.2\n",
    "\n",
    "%timeit Ps = riemann_solver(Pl, Pr, x, xstar, t_max, CFL)"
   ]
  },
  {
   "cell_type": "code",
   "execution_count": 36,
   "metadata": {},
   "outputs": [
    {
     "name": "stdout",
     "output_type": "stream",
     "text": [
      "10 loops, best of 3: 21.2 ms per loop\n"
     ]
    }
   ],
   "source": [
    "#test 2\n",
    "Pl = [1.0, 0.0, 1000.0]\n",
    "Pr = [1.0, 0.0, 0.01]\n",
    "xstar = 0.5\n",
    "t_max = 0.012\n",
    "%timeit Ps = riemann_solver(Pl, Pr, x, xstar, t_max, CFL)"
   ]
  },
  {
   "cell_type": "code",
   "execution_count": 27,
   "metadata": {},
   "outputs": [
    {
     "data": {
      "image/png": "[encoded data removed]",
      "text/plain": [
       "<matplotlib.figure.Figure at 0x7f7ca9d50750>"
      ]
     },
     "metadata": {
      "needs_background": "light"
     },
     "output_type": "display_data"
    }
   ],
   "source": [
    "Ps = riemann_solver(Pl, Pr, x, xstar, t_max, CFL)\n",
    "plot(Ps)"
   ]
  },
  {
   "cell_type": "code",
   "execution_count": 6,
   "metadata": {},
   "outputs": [
    {
     "name": "stdout",
     "output_type": "stream",
     "text": [
      "100 loops, best of 3: 17.6 ms per loop\n"
     ]
    }
   ],
   "source": [
    "#test 3\n",
    "Pl = [1.0, -0.8, 0.4]\n",
    "Pr = [1.0, 1.2, 0.4]\n",
    "xstar = 0.44\n",
    "t_max = 0.25\n",
    "%timeit Ps = riemann_solver(Pl, Pr, x, xstar, t_max, CFL)"
   ]
  },
  {
   "cell_type": "code",
   "execution_count": 7,
   "metadata": {},
   "outputs": [
    {
     "name": "stdout",
     "output_type": "stream",
     "text": [
      "100 loops, best of 3: 5.76 ms per loop\n"
     ]
    }
   ],
   "source": [
    "#test 4\n",
    "Pl = [1.0, 2.0, 4.0]\n",
    "Pr = [1.0, -2.0, 4.0]\n",
    "xstar = 0.5\n",
    "t_max = 0.04\n",
    "\n",
    "%timeit Ps = riemann_solver(Pl, Pr, x, xstar, t_max, CFL)"
   ]
  },
  {
   "cell_type": "markdown",
   "metadata": {},
   "source": [
    "Chúng ta thấy mỗi bài toàn mang một đặc thù riêng. Chúng sẽ được sử dụng để so sánh giữa các phương pháp khác nhau.\n",
    "\n",
    "Bước cuối cùng, ta tách và lưu code vào ba file trong thư mục lib: **constants.py, decay.py, convert_variables.py, euler_solver.py** để sử dụng cho bài sau.\n",
    "\n",
    "### [Bài 17. Euler 1D solver: Godunov, MUSCL, WENO5, Runge-Kutta 3](Bai_17.ipynb)"
   ]
  },
  {
   "cell_type": "code",
   "execution_count": null,
   "metadata": {},
   "outputs": [],
   "source": []
  }
 ],
 "metadata": {
  "kernelspec": {
   "display_name": "Python 2",
   "language": "python",
   "name": "python2"
  },
  "language_info": {
   "codemirror_mode": {
    "name": "ipython",
    "version": 2
   },
   "file_extension": ".py",
   "mimetype": "text/x-python",
   "name": "python",
   "nbconvert_exporter": "python",
   "pygments_lexer": "ipython2",
   "version": "2.7.15rc1"
  }
 },
 "nbformat": 4,
 "nbformat_minor": 2
}
